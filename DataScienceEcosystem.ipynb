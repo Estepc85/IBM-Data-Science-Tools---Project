{
 "cells": [
  {
   "cell_type": "markdown",
   "id": "f0c4ac1a-8db1-4544-bba8-aa5d16801a4e",
   "metadata": {},
   "source": [
    "# Data Science Tools and Ecosystem"
   ]
  },
  {
   "cell_type": "markdown",
   "id": "f787982b-f257-4511-ba33-2e5ffee36517",
   "metadata": {},
   "source": [
    "##### In this notebook, Data Science Tools and Ecosystem are summarized."
   ]
  },
  {
   "cell_type": "markdown",
   "id": "4bc9d243-2c90-4913-ac0c-e94e8e770c90",
   "metadata": {},
   "source": [
    "**Objectives:**"
   ]
  },
  {
   "cell_type": "markdown",
   "id": "451f4c51-7d63-4a67-a2bf-0fac7b89520e",
   "metadata": {},
   "source": [
    "**List Popular Languages for Data Science:**"
   ]
  },
  {
   "cell_type": "markdown",
   "id": "ba008972-0eb8-4475-bc86-4f48e51bea6a",
   "metadata": {},
   "source": [
    "- Python"
   ]
  },
  {
   "cell_type": "markdown",
   "id": "7928c587-a328-45d2-a2c7-e2de02ca59c4",
   "metadata": {},
   "source": [
    "- R"
   ]
  },
  {
   "cell_type": "markdown",
   "id": "143eda5d-c03a-4014-9841-c58af142af7f",
   "metadata": {},
   "source": [
    "- Julia"
   ]
  },
  {
   "cell_type": "markdown",
   "id": "ef898571-74db-47d6-8785-6d3f89aa8388",
   "metadata": {},
   "source": [
    "##### Some of the popular languages that Data Scientists use are:"
   ]
  },
  {
   "cell_type": "markdown",
   "id": "b239a232-dc08-4922-8e33-fbdd11299ef5",
   "metadata": {},
   "source": [
    "1. Python"
   ]
  },
  {
   "cell_type": "markdown",
   "id": "cd343b4c-aed3-4ed2-94d2-3beae9e8ef5d",
   "metadata": {},
   "source": [
    "2. R"
   ]
  },
  {
   "cell_type": "markdown",
   "id": "c100e555-161d-48d1-95fd-54cfd92bd77f",
   "metadata": {},
   "source": [
    "3. Julia"
   ]
  },
  {
   "cell_type": "markdown",
   "id": "a0ed49b4-1d44-412f-9c6a-ce1473b0f571",
   "metadata": {},
   "source": [
    "##### Some of the commonly used libraries used by Data Scientists include:"
   ]
  },
  {
   "cell_type": "markdown",
   "id": "cfd1f1c7-7cf9-4bc7-83e4-7f9a55264a86",
   "metadata": {},
   "source": [
    "1. NumPy"
   ]
  },
  {
   "cell_type": "markdown",
   "id": "cf45907c-7717-4949-b4dc-d0c77fb7fe84",
   "metadata": {},
   "source": [
    "2. Matplotlib"
   ]
  },
  {
   "cell_type": "markdown",
   "id": "1af47fae-6c6c-4fbe-a26f-8f02099962fc",
   "metadata": {},
   "source": [
    "3. SciPy"
   ]
  },
  {
   "cell_type": "markdown",
   "id": "e510c6ed-c017-409e-a05a-c289062e0d93",
   "metadata": {},
   "source": [
    "4. Pandas"
   ]
  },
  {
   "cell_type": "markdown",
   "id": "7518ce3c-7d06-4b54-9114-bed453d89049",
   "metadata": {},
   "source": [
    "5. TensorFlow"
   ]
  },
  {
   "cell_type": "markdown",
   "id": "52d6d311-7cb6-4936-8075-f2e4d0e28830",
   "metadata": {},
   "source": [
    "6. PyTorch"
   ]
  },
  {
   "cell_type": "markdown",
   "id": "04774317-f413-4a4d-a3a5-e8c2488d9dbd",
   "metadata": {},
   "source": [
    "<table>\n",
    "<tr><th> Data Science Tools <th><th>\n",
    "<tr><td> Apache Spark <td><td>\n",
    "<tr><td> Apache Hadoop <td><td>\n",
    "<tr><td> Apache Kafka <td><td>\n",
    "</table>"
   ]
  },
  {
   "cell_type": "markdown",
   "id": "64f9eee9-0f7d-4a75-b553-084b966b8f97",
   "metadata": {},
   "source": [
    "### Below are a few examples of evaluating arithmetic expressions in Python: "
   ]
  },
  {
   "cell_type": "code",
   "execution_count": 12,
   "id": "0458f8d3-39a0-434f-a45b-7e8e643c75e3",
   "metadata": {},
   "outputs": [
    {
     "name": "stdout",
     "output_type": "stream",
     "text": [
      "The formula string is : (100 ** 2) - 50 + 24\n",
      "The evaluated result is : 9974\n"
     ]
    }
   ],
   "source": [
    "# assigned string\n",
    "evaluated_string = \"(100 ** 2) - 50 + 24\"\n",
    " \n",
    "# printing formula string\n",
    "print(\"The formula string is : \" + evaluated_string)\n",
    " \n",
    "# Expression evaluation utilizing string\n",
    "answer = eval(evaluated_string)\n",
    " \n",
    "# printing result \n",
    "print(\"The evaluated result is : \" + str(answer)) "
   ]
  },
  {
   "cell_type": "code",
   "execution_count": 13,
   "id": "cc5c6d24-8b14-4768-a642-aac5e8fded4b",
   "metadata": {},
   "outputs": [
    {
     "name": "stdout",
     "output_type": "stream",
     "text": [
      "The formula string is : (100 * 2) - 50 + 24\n",
      "The evaluated result is : 174\n"
     ]
    }
   ],
   "source": [
    "# assigned string\n",
    "evaluated_string = \"(100 * 2) - 50 + 24\"\n",
    " \n",
    "# printing formula string\n",
    "print(\"The formula string is : \" + evaluated_string)\n",
    " \n",
    "# Expression evaluation utilizing string\n",
    "answer = eval(evaluated_string)\n",
    " \n",
    "# printing result \n",
    "print(\"The evaluated result is : \" + str(answer)) "
   ]
  },
  {
   "cell_type": "code",
   "execution_count": 16,
   "id": "bde22d65-db91-4909-8e33-aa1aa1772f04",
   "metadata": {},
   "outputs": [
    {
     "name": "stdout",
     "output_type": "stream",
     "text": [
      "The formula string is the following: (3 * 4) + 5\n",
      "The evaluated result is the following: 17\n"
     ]
    }
   ],
   "source": [
    "# assigning variable to expression\n",
    "evaluated_string = \"(3 * 4) + 5\"\n",
    "\n",
    "#printing formula string\n",
    "print(\"The formula string is the following: \" + evaluated_string)\n",
    "\n",
    "# Expression evaluation utilizing string\n",
    "answer = eval(evaluated_string)\n",
    "\n",
    "# printing result\n",
    "print(\"The evaluated result is the following: \" + str(answer))"
   ]
  },
  {
   "cell_type": "markdown",
   "id": "d124c7aa-4a98-4cc6-acfe-777074b8d88a",
   "metadata": {},
   "source": [
    "### This a simple arithmetic expression to mutiply then add integers"
   ]
  },
  {
   "cell_type": "markdown",
   "id": "2104ed4b-7d77-42d5-8af1-1d628ae86a15",
   "metadata": {},
   "source": [
    "### This will convert 200 minutes to hours by diving by 60"
   ]
  },
  {
   "cell_type": "code",
   "execution_count": 19,
   "id": "826ba69b-5d74-4439-9a1b-66cad6d1308a",
   "metadata": {},
   "outputs": [
    {
     "name": "stdout",
     "output_type": "stream",
     "text": [
      "The formula string is the following: 200 / 60\n",
      "The evaluated result is the following: 3.3333333333333335\n"
     ]
    }
   ],
   "source": [
    "# assigning variable to the expression\n",
    "hours = \"200 / 60\"\n",
    "\n",
    "#printing formula string\n",
    "print(\"The formula string is the following: \" + hours)\n",
    "\n",
    "# Expression evaluation utilizing string\n",
    "answer = eval(hours)\n",
    "\n",
    "# printing result\n",
    "print(\"The evaluated result is the following: \" + str(answer))"
   ]
  },
  {
   "cell_type": "markdown",
   "id": "789ca43a-3d76-4041-889e-1ac5d93a5c02",
   "metadata": {},
   "source": [
    "## Author"
   ]
  },
  {
   "cell_type": "markdown",
   "id": "aff3dc64-746b-488a-841e-6ad149886191",
   "metadata": {},
   "source": [
    "Christian Estep"
   ]
  },
  {
   "cell_type": "code",
   "execution_count": null,
   "id": "600e4a91-9f4d-4729-b58c-f7355e71db6e",
   "metadata": {},
   "outputs": [],
   "source": []
  }
 ],
 "metadata": {
  "kernelspec": {
   "display_name": "Python 3 (ipykernel)",
   "language": "python",
   "name": "python3"
  },
  "language_info": {
   "codemirror_mode": {
    "name": "ipython",
    "version": 3
   },
   "file_extension": ".py",
   "mimetype": "text/x-python",
   "name": "python",
   "nbconvert_exporter": "python",
   "pygments_lexer": "ipython3",
   "version": "3.10.14"
  }
 },
 "nbformat": 4,
 "nbformat_minor": 5
}
